{
 "cells": [
  {
   "cell_type": "markdown",
   "id": "db01a670",
   "metadata": {
    "papermill": {
     "duration": 0.004314,
     "end_time": "2023-08-11T02:59:48.142802",
     "exception": false,
     "start_time": "2023-08-11T02:59:48.138488",
     "status": "completed"
    },
    "tags": []
   },
   "source": [
    "**This notebook is an exercise in the [Introduction to Machine Learning](https://www.kaggle.com/learn/intro-to-machine-learning) course.  You can reference the tutorial at [this link](https://www.kaggle.com/dansbecker/model-validation).**\n",
    "\n",
    "---\n"
   ]
  },
  {
   "cell_type": "markdown",
   "id": "6ec1c8c2",
   "metadata": {
    "papermill": {
     "duration": 0.003473,
     "end_time": "2023-08-11T02:59:48.150029",
     "exception": false,
     "start_time": "2023-08-11T02:59:48.146556",
     "status": "completed"
    },
    "tags": []
   },
   "source": [
    "## Recap\n",
    "You've built a model. In this exercise you will test how good your model is.\n",
    "\n",
    "Run the cell below to set up your coding environment where the previous exercise left off."
   ]
  },
  {
   "cell_type": "code",
   "execution_count": 1,
   "id": "e241bb4a",
   "metadata": {
    "execution": {
     "iopub.execute_input": "2023-08-11T02:59:48.158912Z",
     "iopub.status.busy": "2023-08-11T02:59:48.158570Z",
     "iopub.status.idle": "2023-08-11T02:59:49.698700Z",
     "shell.execute_reply": "2023-08-11T02:59:49.697468Z"
    },
    "papermill": {
     "duration": 1.546995,
     "end_time": "2023-08-11T02:59:49.700607",
     "exception": false,
     "start_time": "2023-08-11T02:59:48.153612",
     "status": "completed"
    },
    "tags": []
   },
   "outputs": [
    {
     "name": "stderr",
     "output_type": "stream",
     "text": [
      "/opt/conda/lib/python3.10/site-packages/scipy/__init__.py:146: UserWarning: A NumPy version >=1.16.5 and <1.23.0 is required for this version of SciPy (detected version 1.23.5\n",
      "  warnings.warn(f\"A NumPy version >={np_minversion} and <{np_maxversion}\"\n"
     ]
    },
    {
     "name": "stdout",
     "output_type": "stream",
     "text": [
      "First in-sample predictions: [208500. 181500. 223500. 140000. 250000.]\n",
      "Actual target values for those homes: [208500, 181500, 223500, 140000, 250000]\n",
      "Setup Complete\n"
     ]
    }
   ],
   "source": [
    "# Code you have previously used to load data\n",
    "import pandas as pd\n",
    "from sklearn.tree import DecisionTreeRegressor\n",
    "\n",
    "# Path of the file to read\n",
    "iowa_file_path = '../input/home-data-for-ml-course/train.csv'\n",
    "\n",
    "home_data = pd.read_csv(iowa_file_path)\n",
    "y = home_data.SalePrice\n",
    "feature_columns = ['LotArea', 'YearBuilt', '1stFlrSF', '2ndFlrSF', 'FullBath', 'BedroomAbvGr', 'TotRmsAbvGrd']\n",
    "X = home_data[feature_columns]\n",
    "\n",
    "# Specify Model\n",
    "iowa_model = DecisionTreeRegressor()\n",
    "# Fit Model\n",
    "iowa_model.fit(X, y)\n",
    "\n",
    "print(\"First in-sample predictions:\", iowa_model.predict(X.head()))\n",
    "print(\"Actual target values for those homes:\", y.head().tolist())\n",
    "\n",
    "# Set up code checking\n",
    "from learntools.core import binder\n",
    "binder.bind(globals())\n",
    "from learntools.machine_learning.ex4 import *\n",
    "print(\"Setup Complete\")"
   ]
  },
  {
   "cell_type": "markdown",
   "id": "340da372",
   "metadata": {
    "papermill": {
     "duration": 0.003977,
     "end_time": "2023-08-11T02:59:49.708866",
     "exception": false,
     "start_time": "2023-08-11T02:59:49.704889",
     "status": "completed"
    },
    "tags": []
   },
   "source": [
    "# Exercises\n",
    "\n",
    "## Step 1: Split Your Data\n",
    "Use the `train_test_split` function to split up your data.\n",
    "\n",
    "Give it the argument `random_state=1` so the `check` functions know what to expect when verifying your code.\n",
    "\n",
    "Recall, your features are loaded in the DataFrame **X** and your target is loaded in **y**.\n"
   ]
  },
  {
   "cell_type": "code",
   "execution_count": 2,
   "id": "984c1c07",
   "metadata": {
    "execution": {
     "iopub.execute_input": "2023-08-11T02:59:49.718987Z",
     "iopub.status.busy": "2023-08-11T02:59:49.718035Z",
     "iopub.status.idle": "2023-08-11T02:59:49.733128Z",
     "shell.execute_reply": "2023-08-11T02:59:49.731993Z"
    },
    "papermill": {
     "duration": 0.022529,
     "end_time": "2023-08-11T02:59:49.735297",
     "exception": false,
     "start_time": "2023-08-11T02:59:49.712768",
     "status": "completed"
    },
    "tags": []
   },
   "outputs": [
    {
     "data": {
      "application/javascript": [
       "parent.postMessage({\"jupyterEvent\": \"custom.exercise_interaction\", \"data\": {\"outcomeType\": 1, \"valueTowardsCompletion\": 0.25, \"interactionType\": 1, \"questionType\": 2, \"questionId\": \"1_SplitData\", \"learnToolsVersion\": \"0.3.4\", \"failureMessage\": \"\", \"exceptionClass\": \"\", \"trace\": \"\"}}, \"*\")"
      ],
      "text/plain": [
       "<IPython.core.display.Javascript object>"
      ]
     },
     "metadata": {},
     "output_type": "display_data"
    },
    {
     "data": {
      "text/markdown": [
       "<span style=\"color:#33cc33\">Correct</span>"
      ],
      "text/plain": [
       "Correct"
      ]
     },
     "metadata": {},
     "output_type": "display_data"
    }
   ],
   "source": [
    "# Import the train_test_split function and uncomment\n",
    "from sklearn.model_selection import train_test_split\n",
    "\n",
    "# fill in and uncomment\n",
    "train_X, val_X, train_y, val_y = train_test_split(X, y, random_state=1) # test_size = 0.3\n",
    "\n",
    "# Check your answer\n",
    "step_1.check()"
   ]
  },
  {
   "cell_type": "code",
   "execution_count": 3,
   "id": "9844af30",
   "metadata": {
    "execution": {
     "iopub.execute_input": "2023-08-11T02:59:49.745438Z",
     "iopub.status.busy": "2023-08-11T02:59:49.745059Z",
     "iopub.status.idle": "2023-08-11T02:59:49.753358Z",
     "shell.execute_reply": "2023-08-11T02:59:49.752397Z"
    },
    "papermill": {
     "duration": 0.015473,
     "end_time": "2023-08-11T02:59:49.754931",
     "exception": false,
     "start_time": "2023-08-11T02:59:49.739458",
     "status": "completed"
    },
    "tags": []
   },
   "outputs": [
    {
     "data": {
      "application/javascript": [
       "parent.postMessage({\"jupyterEvent\": \"custom.exercise_interaction\", \"data\": {\"interactionType\": 2, \"questionType\": 2, \"questionId\": \"1_SplitData\", \"learnToolsVersion\": \"0.3.4\", \"valueTowardsCompletion\": 0.0, \"failureMessage\": \"\", \"exceptionClass\": \"\", \"trace\": \"\", \"outcomeType\": 4}}, \"*\")"
      ],
      "text/plain": [
       "<IPython.core.display.Javascript object>"
      ]
     },
     "metadata": {},
     "output_type": "display_data"
    },
    {
     "data": {
      "text/markdown": [
       "<span style=\"color:#3366cc\">Hint:</span> The function you need to import is part of sklearn. When calling the function, the arguments are X and y. Ensure you set the random_state to 1."
      ],
      "text/plain": [
       "Hint: The function you need to import is part of sklearn. When calling the function, the arguments are X and y. Ensure you set the random_state to 1."
      ]
     },
     "metadata": {},
     "output_type": "display_data"
    },
    {
     "data": {
      "application/javascript": [
       "parent.postMessage({\"jupyterEvent\": \"custom.exercise_interaction\", \"data\": {\"interactionType\": 3, \"questionType\": 2, \"questionId\": \"1_SplitData\", \"learnToolsVersion\": \"0.3.4\", \"valueTowardsCompletion\": 0.0, \"failureMessage\": \"\", \"exceptionClass\": \"\", \"trace\": \"\", \"outcomeType\": 4}}, \"*\")"
      ],
      "text/plain": [
       "<IPython.core.display.Javascript object>"
      ]
     },
     "metadata": {},
     "output_type": "display_data"
    },
    {
     "data": {
      "text/markdown": [
       "<span style=\"color:#33cc99\">Solution:</span> \n",
       "```python\n",
       "from sklearn.model_selection import train_test_split\n",
       "train_X, val_X, train_y, val_y = train_test_split(X, y, random_state=1)\n",
       "```"
      ],
      "text/plain": [
       "Solution: \n",
       "```python\n",
       "from sklearn.model_selection import train_test_split\n",
       "train_X, val_X, train_y, val_y = train_test_split(X, y, random_state=1)\n",
       "```"
      ]
     },
     "metadata": {},
     "output_type": "display_data"
    }
   ],
   "source": [
    "# The lines below will show you a hint or the solution.\n",
    "step_1.hint() \n",
    "step_1.solution()"
   ]
  },
  {
   "cell_type": "markdown",
   "id": "34ec5245",
   "metadata": {
    "papermill": {
     "duration": 0.004183,
     "end_time": "2023-08-11T02:59:49.765055",
     "exception": false,
     "start_time": "2023-08-11T02:59:49.760872",
     "status": "completed"
    },
    "tags": []
   },
   "source": [
    "## Step 2: Specify and Fit the Model\n",
    "\n",
    "Create a `DecisionTreeRegressor` model and fit it to the relevant data.\n",
    "Set `random_state` to 1 again when creating the model."
   ]
  },
  {
   "cell_type": "code",
   "execution_count": 4,
   "id": "b2f20cbb",
   "metadata": {
    "execution": {
     "iopub.execute_input": "2023-08-11T02:59:49.776092Z",
     "iopub.status.busy": "2023-08-11T02:59:49.775274Z",
     "iopub.status.idle": "2023-08-11T02:59:49.800447Z",
     "shell.execute_reply": "2023-08-11T02:59:49.799013Z"
    },
    "papermill": {
     "duration": 0.033065,
     "end_time": "2023-08-11T02:59:49.802606",
     "exception": false,
     "start_time": "2023-08-11T02:59:49.769541",
     "status": "completed"
    },
    "tags": []
   },
   "outputs": [
    {
     "name": "stdout",
     "output_type": "stream",
     "text": [
      "[186500. 184000. 130000.  92000. 164500. 220000. 335000. 144152. 215000.\n",
      " 262000.]\n",
      "[186500. 184000. 130000.  92000. 164500. 220000. 335000. 144152. 215000.\n",
      " 262000.]\n"
     ]
    },
    {
     "data": {
      "application/javascript": [
       "parent.postMessage({\"jupyterEvent\": \"custom.exercise_interaction\", \"data\": {\"outcomeType\": 1, \"valueTowardsCompletion\": 0.25, \"interactionType\": 1, \"questionType\": 2, \"questionId\": \"2_FitModelWithTrain\", \"learnToolsVersion\": \"0.3.4\", \"failureMessage\": \"\", \"exceptionClass\": \"\", \"trace\": \"\"}}, \"*\")"
      ],
      "text/plain": [
       "<IPython.core.display.Javascript object>"
      ]
     },
     "metadata": {},
     "output_type": "display_data"
    },
    {
     "data": {
      "text/markdown": [
       "<span style=\"color:#33cc33\">Correct</span>"
      ],
      "text/plain": [
       "Correct"
      ]
     },
     "metadata": {},
     "output_type": "display_data"
    }
   ],
   "source": [
    "# You imported DecisionTreeRegressor in your last exercise\n",
    "# and that code has been copied to the setup code above. So, no need to\n",
    "from sklearn.tree import DecisionTreeRegressor\n",
    "\n",
    "# Specify the model\n",
    "iowa_model = DecisionTreeRegressor(random_state=1)\n",
    "\n",
    "# Fit iowa_model with the training data.\n",
    "iowa_model.fit(train_X, train_y)\n",
    "\n",
    "# Check your answer\n",
    "step_2.check()"
   ]
  },
  {
   "cell_type": "code",
   "execution_count": 5,
   "id": "c2b83aa0",
   "metadata": {
    "execution": {
     "iopub.execute_input": "2023-08-11T02:59:49.815465Z",
     "iopub.status.busy": "2023-08-11T02:59:49.814872Z",
     "iopub.status.idle": "2023-08-11T02:59:49.820435Z",
     "shell.execute_reply": "2023-08-11T02:59:49.818731Z"
    },
    "papermill": {
     "duration": 0.014125,
     "end_time": "2023-08-11T02:59:49.822772",
     "exception": false,
     "start_time": "2023-08-11T02:59:49.808647",
     "status": "completed"
    },
    "tags": []
   },
   "outputs": [],
   "source": [
    "# step_2.hint()\n",
    "# step_2.solution()"
   ]
  },
  {
   "cell_type": "markdown",
   "id": "1816f55d",
   "metadata": {
    "papermill": {
     "duration": 0.004496,
     "end_time": "2023-08-11T02:59:49.832467",
     "exception": false,
     "start_time": "2023-08-11T02:59:49.827971",
     "status": "completed"
    },
    "tags": []
   },
   "source": [
    "## Step 3: Make Predictions with Validation data\n"
   ]
  },
  {
   "cell_type": "code",
   "execution_count": 6,
   "id": "cef24869",
   "metadata": {
    "execution": {
     "iopub.execute_input": "2023-08-11T02:59:49.843156Z",
     "iopub.status.busy": "2023-08-11T02:59:49.842824Z",
     "iopub.status.idle": "2023-08-11T02:59:49.854381Z",
     "shell.execute_reply": "2023-08-11T02:59:49.853016Z"
    },
    "papermill": {
     "duration": 0.019326,
     "end_time": "2023-08-11T02:59:49.856402",
     "exception": false,
     "start_time": "2023-08-11T02:59:49.837076",
     "status": "completed"
    },
    "tags": []
   },
   "outputs": [
    {
     "data": {
      "application/javascript": [
       "parent.postMessage({\"jupyterEvent\": \"custom.exercise_interaction\", \"data\": {\"outcomeType\": 1, \"valueTowardsCompletion\": 0.25, \"interactionType\": 1, \"questionType\": 2, \"questionId\": \"3_ValPreds\", \"learnToolsVersion\": \"0.3.4\", \"failureMessage\": \"\", \"exceptionClass\": \"\", \"trace\": \"\"}}, \"*\")"
      ],
      "text/plain": [
       "<IPython.core.display.Javascript object>"
      ]
     },
     "metadata": {},
     "output_type": "display_data"
    },
    {
     "data": {
      "text/markdown": [
       "<span style=\"color:#33cc33\">Correct</span>"
      ],
      "text/plain": [
       "Correct"
      ]
     },
     "metadata": {},
     "output_type": "display_data"
    }
   ],
   "source": [
    "# Predict with all validation observations\n",
    "val_predictions = iowa_model.predict(val_X)\n",
    "\n",
    "# Check your answer\n",
    "step_3.check()"
   ]
  },
  {
   "cell_type": "code",
   "execution_count": 7,
   "id": "874cdabf",
   "metadata": {
    "execution": {
     "iopub.execute_input": "2023-08-11T02:59:49.867964Z",
     "iopub.status.busy": "2023-08-11T02:59:49.867632Z",
     "iopub.status.idle": "2023-08-11T02:59:49.880814Z",
     "shell.execute_reply": "2023-08-11T02:59:49.879821Z"
    },
    "papermill": {
     "duration": 0.021282,
     "end_time": "2023-08-11T02:59:49.882840",
     "exception": false,
     "start_time": "2023-08-11T02:59:49.861558",
     "status": "completed"
    },
    "tags": []
   },
   "outputs": [
    {
     "data": {
      "application/javascript": [
       "parent.postMessage({\"jupyterEvent\": \"custom.exercise_interaction\", \"data\": {\"interactionType\": 2, \"questionType\": 2, \"questionId\": \"3_ValPreds\", \"learnToolsVersion\": \"0.3.4\", \"valueTowardsCompletion\": 0.0, \"failureMessage\": \"\", \"exceptionClass\": \"\", \"trace\": \"\", \"outcomeType\": 4}}, \"*\")"
      ],
      "text/plain": [
       "<IPython.core.display.Javascript object>"
      ]
     },
     "metadata": {},
     "output_type": "display_data"
    },
    {
     "data": {
      "text/markdown": [
       "<span style=\"color:#3366cc\">Hint:</span> Run predict on the right validation data object."
      ],
      "text/plain": [
       "Hint: Run predict on the right validation data object."
      ]
     },
     "metadata": {},
     "output_type": "display_data"
    },
    {
     "data": {
      "application/javascript": [
       "parent.postMessage({\"jupyterEvent\": \"custom.exercise_interaction\", \"data\": {\"interactionType\": 3, \"questionType\": 2, \"questionId\": \"3_ValPreds\", \"learnToolsVersion\": \"0.3.4\", \"valueTowardsCompletion\": 0.0, \"failureMessage\": \"\", \"exceptionClass\": \"\", \"trace\": \"\", \"outcomeType\": 4}}, \"*\")"
      ],
      "text/plain": [
       "<IPython.core.display.Javascript object>"
      ]
     },
     "metadata": {},
     "output_type": "display_data"
    },
    {
     "data": {
      "text/markdown": [
       "<span style=\"color:#33cc99\">Solution:</span> \n",
       "```python\n",
       "val_predictions = iowa_model.predict(val_X)\n",
       "```"
      ],
      "text/plain": [
       "Solution: \n",
       "```python\n",
       "val_predictions = iowa_model.predict(val_X)\n",
       "```"
      ]
     },
     "metadata": {},
     "output_type": "display_data"
    }
   ],
   "source": [
    "step_3.hint()\n",
    "step_3.solution()"
   ]
  },
  {
   "cell_type": "markdown",
   "id": "396a49ef",
   "metadata": {
    "papermill": {
     "duration": 0.005179,
     "end_time": "2023-08-11T02:59:49.893756",
     "exception": false,
     "start_time": "2023-08-11T02:59:49.888577",
     "status": "completed"
    },
    "tags": []
   },
   "source": [
    "Inspect your predictions and actual values from validation data."
   ]
  },
  {
   "cell_type": "code",
   "execution_count": 8,
   "id": "a7eebe32",
   "metadata": {
    "execution": {
     "iopub.execute_input": "2023-08-11T02:59:49.906559Z",
     "iopub.status.busy": "2023-08-11T02:59:49.906247Z",
     "iopub.status.idle": "2023-08-11T02:59:49.911960Z",
     "shell.execute_reply": "2023-08-11T02:59:49.910883Z"
    },
    "papermill": {
     "duration": 0.014792,
     "end_time": "2023-08-11T02:59:49.913785",
     "exception": false,
     "start_time": "2023-08-11T02:59:49.898993",
     "status": "completed"
    },
    "tags": []
   },
   "outputs": [
    {
     "name": "stdout",
     "output_type": "stream",
     "text": [
      "[186500. 184000. 130000.  92000. 164500. 220000. 335000. 144152. 215000.\n",
      " 262000.]\n",
      "[231500, 179500, 122000, 84500, 142000, 325624, 285000, 151000, 195000, 275000]\n"
     ]
    }
   ],
   "source": [
    "# print the top few validation predictions\n",
    "print(val_predictions[:10])\n",
    "# print the top few actual prices from validation data\n",
    "print(val_y[:10].tolist())"
   ]
  },
  {
   "cell_type": "markdown",
   "id": "9da6edb5",
   "metadata": {
    "papermill": {
     "duration": 0.005464,
     "end_time": "2023-08-11T02:59:49.924828",
     "exception": false,
     "start_time": "2023-08-11T02:59:49.919364",
     "status": "completed"
    },
    "tags": []
   },
   "source": [
    "What do you notice that is different from what you saw with in-sample predictions (which are printed after the top code cell in this page).\n",
    "\n",
    "Do you remember why validation predictions differ from in-sample (or training) predictions? This is an important idea from the last lesson.\n",
    "\n",
    "## Step 4: Calculate the Mean Absolute Error in Validation Data\n"
   ]
  },
  {
   "cell_type": "code",
   "execution_count": 9,
   "id": "88b4b4a6",
   "metadata": {
    "execution": {
     "iopub.execute_input": "2023-08-11T02:59:49.937786Z",
     "iopub.status.busy": "2023-08-11T02:59:49.937443Z",
     "iopub.status.idle": "2023-08-11T02:59:49.947824Z",
     "shell.execute_reply": "2023-08-11T02:59:49.946533Z"
    },
    "papermill": {
     "duration": 0.019669,
     "end_time": "2023-08-11T02:59:49.950077",
     "exception": false,
     "start_time": "2023-08-11T02:59:49.930408",
     "status": "completed"
    },
    "tags": []
   },
   "outputs": [
    {
     "name": "stdout",
     "output_type": "stream",
     "text": [
      "29652.931506849316\n"
     ]
    },
    {
     "data": {
      "application/javascript": [
       "parent.postMessage({\"jupyterEvent\": \"custom.exercise_interaction\", \"data\": {\"outcomeType\": 1, \"valueTowardsCompletion\": 0.25, \"interactionType\": 1, \"questionType\": 1, \"questionId\": \"4_MAE\", \"learnToolsVersion\": \"0.3.4\", \"failureMessage\": \"\", \"exceptionClass\": \"\", \"trace\": \"\"}}, \"*\")"
      ],
      "text/plain": [
       "<IPython.core.display.Javascript object>"
      ]
     },
     "metadata": {},
     "output_type": "display_data"
    },
    {
     "data": {
      "text/markdown": [
       "<span style=\"color:#33cc33\">Correct</span>"
      ],
      "text/plain": [
       "Correct"
      ]
     },
     "metadata": {},
     "output_type": "display_data"
    }
   ],
   "source": [
    "from sklearn.metrics import mean_absolute_error\n",
    "val_mae = mean_absolute_error(val_y, val_predictions)\n",
    "\n",
    "# uncomment following line to see the validation_mae\n",
    "print(val_mae)\n",
    "\n",
    "# Check your answer\n",
    "step_4.check()"
   ]
  },
  {
   "cell_type": "code",
   "execution_count": 10,
   "id": "b8a1fd41",
   "metadata": {
    "execution": {
     "iopub.execute_input": "2023-08-11T02:59:49.966923Z",
     "iopub.status.busy": "2023-08-11T02:59:49.966097Z",
     "iopub.status.idle": "2023-08-11T02:59:49.971936Z",
     "shell.execute_reply": "2023-08-11T02:59:49.971054Z"
    },
    "papermill": {
     "duration": 0.017877,
     "end_time": "2023-08-11T02:59:49.974098",
     "exception": false,
     "start_time": "2023-08-11T02:59:49.956221",
     "status": "completed"
    },
    "tags": []
   },
   "outputs": [],
   "source": [
    "# step_4.hint()\n",
    "# step_4.solution()"
   ]
  },
  {
   "cell_type": "markdown",
   "id": "2028edcd",
   "metadata": {
    "papermill": {
     "duration": 0.006125,
     "end_time": "2023-08-11T02:59:49.986684",
     "exception": false,
     "start_time": "2023-08-11T02:59:49.980559",
     "status": "completed"
    },
    "tags": []
   },
   "source": [
    "Is that MAE good?  There isn't a general rule for what values are good that applies across applications. But you'll see how to use (and improve) this number in the next step.\n",
    "\n",
    "# Keep Going\n",
    "\n",
    "You are ready for **[Underfitting and Overfitting](https://www.kaggle.com/dansbecker/underfitting-and-overfitting).**\n"
   ]
  },
  {
   "cell_type": "markdown",
   "id": "c9d525a1",
   "metadata": {
    "papermill": {
     "duration": 0.007059,
     "end_time": "2023-08-11T02:59:50.000388",
     "exception": false,
     "start_time": "2023-08-11T02:59:49.993329",
     "status": "completed"
    },
    "tags": []
   },
   "source": [
    "---\n",
    "\n",
    "\n",
    "\n",
    "\n",
    "*Have questions or comments? Visit the [course discussion forum](https://www.kaggle.com/learn/intro-to-machine-learning/discussion) to chat with other learners.*"
   ]
  }
 ],
 "metadata": {
  "kernelspec": {
   "display_name": "Python 3",
   "language": "python",
   "name": "python3"
  },
  "language_info": {
   "codemirror_mode": {
    "name": "ipython",
    "version": 3
   },
   "file_extension": ".py",
   "mimetype": "text/x-python",
   "name": "python",
   "nbconvert_exporter": "python",
   "pygments_lexer": "ipython3",
   "version": "3.10.12"
  },
  "papermill": {
   "default_parameters": {},
   "duration": 10.856889,
   "end_time": "2023-08-11T02:59:50.929962",
   "environment_variables": {},
   "exception": null,
   "input_path": "__notebook__.ipynb",
   "output_path": "__notebook__.ipynb",
   "parameters": {},
   "start_time": "2023-08-11T02:59:40.073073",
   "version": "2.4.0"
  }
 },
 "nbformat": 4,
 "nbformat_minor": 5
}
